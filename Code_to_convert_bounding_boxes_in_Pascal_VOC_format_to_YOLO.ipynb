{
  "nbformat": 4,
  "nbformat_minor": 0,
  "metadata": {
    "colab": {
      "provenance": [],
      "authorship_tag": "ABX9TyM1Aav9nfTcJAju+E1Djmqv",
      "include_colab_link": true
    },
    "kernelspec": {
      "name": "python3",
      "display_name": "Python 3"
    },
    "language_info": {
      "name": "python"
    }
  },
  "cells": [
    {
      "cell_type": "markdown",
      "metadata": {
        "id": "view-in-github",
        "colab_type": "text"
      },
      "source": [
        "<a href=\"https://colab.research.google.com/github/ghadaalhabib/Supportive-Code/blob/main/Code_to_convert_bounding_boxes_in_Pascal_VOC_format_to_YOLO.ipynb\" target=\"_parent\"><img src=\"https://colab.research.google.com/assets/colab-badge.svg\" alt=\"Open In Colab\"/></a>"
      ]
    },
    {
      "cell_type": "code",
      "execution_count": null,
      "metadata": {
        "colab": {
          "base_uri": "https://localhost:8080/"
        },
        "id": "rrlVthymBPRA",
        "outputId": "47916346-7ade-4f8d-d7e5-67e87054e731"
      },
      "outputs": [
        {
          "output_type": "stream",
          "name": "stdout",
          "text": [
            "Drive already mounted at /content/drive; to attempt to forcibly remount, call drive.mount(\"/content/drive\", force_remount=True).\n"
          ]
        }
      ],
      "source": [
        "#Mount the google drive\n",
        "from google.colab import drive\n",
        "drive.mount('/content/drive')"
      ]
    },
    {
      "cell_type": "code",
      "source": [
        "import pandas as pd\n",
        "import os"
      ],
      "metadata": {
        "id": "M9rX4X4uEdqJ"
      },
      "execution_count": null,
      "outputs": []
    },
    {
      "cell_type": "code",
      "source": [
        "# Mount the google drive\n",
        "from google.colab import drive "
      ],
      "metadata": {
        "id": "lkh3JbMeEs8f"
      },
      "execution_count": null,
      "outputs": []
    },
    {
      "cell_type": "code",
      "source": [
        "# Import necessary libraries\n",
        "import pandas as pd\n",
        "import os"
      ],
      "metadata": {
        "id": "2HkcVkTlGBza"
      },
      "execution_count": null,
      "outputs": []
    },
    {
      "cell_type": "code",
      "source": [
        "# Read csv files containing\n",
        "os.chdir('/content/drive/My Drive/dataset')\n",
        "classes_data = pd.read_csv('classes.csv', header=None)\n",
        "classes_data.head()\n",
        "print(classes_data)\n"
      ],
      "metadata": {
        "colab": {
          "base_uri": "https://localhost:8080/"
        },
        "id": "Q_juTYjuGH7A",
        "outputId": "ab3bc62d-65a8-4d33-9bd7-75a1ba146744"
      },
      "execution_count": null,
      "outputs": [
        {
          "output_type": "stream",
          "name": "stdout",
          "text": [
            "     0                  1\n",
            "0    0           GRAFFITI\n",
            "1    1      FADED_SIGNAGE\n",
            "2    2           POTHOLES\n",
            "3    3            GARBAGE\n",
            "4    4  CONSTRUCTION_ROAD\n",
            "5    5     BROKEN_SIGNAGE\n",
            "6    6    BAD_STREETLIGHT\n",
            "7    7      BAD_BILLBOARD\n",
            "8    8       SAND_ON_ROAD\n",
            "9    9   CLUTTER_SIDEWALK\n",
            "10  10      UNKEPT_FACADE\n"
          ]
        }
      ]
    },
    {
      "cell_type": "code",
      "source": [
        "# Define required classes\n",
        "classes = ['GRAFFITI', 'FADED_SIGNAGE', 'POTHOLES', 'GARBAGE', 'CONSTRUCTION_ROAD' , 'BROKEN_SIGNAGE', 'BAD_STREETLIGHT', 'BAD_BILLBOARD', 'SAND_ON_ROAD', 'CLUTTER_SIDEWALK', 'UNKEPT_FACADE']\n",
        "print(classes)"
      ],
      "metadata": {
        "colab": {
          "base_uri": "https://localhost:8080/"
        },
        "id": "7TAMdscoJj7_",
        "outputId": "fe015f1c-1ed0-4cde-99a7-e4a6e285cce7"
      },
      "execution_count": null,
      "outputs": [
        {
          "output_type": "stream",
          "name": "stdout",
          "text": [
            "['GRAFFITI', 'FADED_SIGNAGE', 'POTHOLES', 'GARBAGE', 'CONSTRUCTION_ROAD', 'BROKEN_SIGNAGE', 'BAD_STREETLIGHT', 'BAD_BILLBOARD', 'SAND_ON_ROAD', 'CLUTTER_SIDEWALK', 'UNKEPT_FACADE']\n"
          ]
        }
      ]
    },
    {
      "cell_type": "code",
      "source": [
        "from numpy import require\n",
        "# Get the strings corresponding to the class name and store it inside a loist called as class_strings\n",
        "class_strings = []\n",
        "for i in classes:\n",
        "  # Extract the first column's elements for matching classes\n",
        "  req_classes = classes_data.loc[classes_data[1] == i]\n",
        "  string = req_classes.iloc[0][0]\n",
        "  #stringg = str(string)\n",
        "  #print(stringg)\n",
        "  class_strings.append(string)\n",
        "print(class_strings)"
      ],
      "metadata": {
        "colab": {
          "base_uri": "https://localhost:8080/"
        },
        "id": "yhnRrZt3LT_u",
        "outputId": "a99f999e-2d4c-4fb6-a9e3-1c79d5a5fb12"
      },
      "execution_count": null,
      "outputs": [
        {
          "output_type": "stream",
          "name": "stdout",
          "text": [
            "[0, 1, 2, 3, 4, 5, 6, 7, 8, 9, 10]\n"
          ]
        }
      ]
    },
    {
      "cell_type": "code",
      "source": [
        " # Get only required columns from annotations csv file and get rid of not required columns\n",
        "\n",
        " annotation_data = pd.read_csv('train.csv', usecols=['image_path', 'class', 'xmin', 'xmax', 'ymin', 'ymax'])\n",
        " annotation_data.head()"
      ],
      "metadata": {
        "colab": {
          "base_uri": "https://localhost:8080/",
          "height": 204
        },
        "id": "7f5uo5veNn-4",
        "outputId": "d5344ec2-7cc4-4c10-9e0c-22a132691679"
      },
      "execution_count": null,
      "outputs": [
        {
          "output_type": "execute_result",
          "data": {
            "text/plain": [
              "   class                            image_path   xmax   xmin   ymax   ymin\n",
              "0    3.0  4a48c42c9579ec0399e6c5a3e825e765.jpg  797.0  701.0  262.0  211.0\n",
              "1    3.0  4a48c42c9579ec0399e6c5a3e825e765.jpg  932.0  786.0  329.0  238.0\n",
              "2    3.0  4a48c42c9579ec0399e6c5a3e825e765.jpg  736.0  657.0  275.0  229.0\n",
              "3    7.0  ea906a663da6321bcef78be4b7d1afff.jpg  986.0  786.0  136.0    0.0\n",
              "4    8.0  1c7d48005a12d1b19261b8e71df7cafe.jpg  667.0  549.0  228.0  179.0"
            ],
            "text/html": [
              "\n",
              "  <div id=\"df-5640b940-489a-4707-84aa-60b6f122f10c\">\n",
              "    <div class=\"colab-df-container\">\n",
              "      <div>\n",
              "<style scoped>\n",
              "    .dataframe tbody tr th:only-of-type {\n",
              "        vertical-align: middle;\n",
              "    }\n",
              "\n",
              "    .dataframe tbody tr th {\n",
              "        vertical-align: top;\n",
              "    }\n",
              "\n",
              "    .dataframe thead th {\n",
              "        text-align: right;\n",
              "    }\n",
              "</style>\n",
              "<table border=\"1\" class=\"dataframe\">\n",
              "  <thead>\n",
              "    <tr style=\"text-align: right;\">\n",
              "      <th></th>\n",
              "      <th>class</th>\n",
              "      <th>image_path</th>\n",
              "      <th>xmax</th>\n",
              "      <th>xmin</th>\n",
              "      <th>ymax</th>\n",
              "      <th>ymin</th>\n",
              "    </tr>\n",
              "  </thead>\n",
              "  <tbody>\n",
              "    <tr>\n",
              "      <th>0</th>\n",
              "      <td>3.0</td>\n",
              "      <td>4a48c42c9579ec0399e6c5a3e825e765.jpg</td>\n",
              "      <td>797.0</td>\n",
              "      <td>701.0</td>\n",
              "      <td>262.0</td>\n",
              "      <td>211.0</td>\n",
              "    </tr>\n",
              "    <tr>\n",
              "      <th>1</th>\n",
              "      <td>3.0</td>\n",
              "      <td>4a48c42c9579ec0399e6c5a3e825e765.jpg</td>\n",
              "      <td>932.0</td>\n",
              "      <td>786.0</td>\n",
              "      <td>329.0</td>\n",
              "      <td>238.0</td>\n",
              "    </tr>\n",
              "    <tr>\n",
              "      <th>2</th>\n",
              "      <td>3.0</td>\n",
              "      <td>4a48c42c9579ec0399e6c5a3e825e765.jpg</td>\n",
              "      <td>736.0</td>\n",
              "      <td>657.0</td>\n",
              "      <td>275.0</td>\n",
              "      <td>229.0</td>\n",
              "    </tr>\n",
              "    <tr>\n",
              "      <th>3</th>\n",
              "      <td>7.0</td>\n",
              "      <td>ea906a663da6321bcef78be4b7d1afff.jpg</td>\n",
              "      <td>986.0</td>\n",
              "      <td>786.0</td>\n",
              "      <td>136.0</td>\n",
              "      <td>0.0</td>\n",
              "    </tr>\n",
              "    <tr>\n",
              "      <th>4</th>\n",
              "      <td>8.0</td>\n",
              "      <td>1c7d48005a12d1b19261b8e71df7cafe.jpg</td>\n",
              "      <td>667.0</td>\n",
              "      <td>549.0</td>\n",
              "      <td>228.0</td>\n",
              "      <td>179.0</td>\n",
              "    </tr>\n",
              "  </tbody>\n",
              "</table>\n",
              "</div>\n",
              "      <button class=\"colab-df-convert\" onclick=\"convertToInteractive('df-5640b940-489a-4707-84aa-60b6f122f10c')\"\n",
              "              title=\"Convert this dataframe to an interactive table.\"\n",
              "              style=\"display:none;\">\n",
              "        \n",
              "  <svg xmlns=\"http://www.w3.org/2000/svg\" height=\"24px\"viewBox=\"0 0 24 24\"\n",
              "       width=\"24px\">\n",
              "    <path d=\"M0 0h24v24H0V0z\" fill=\"none\"/>\n",
              "    <path d=\"M18.56 5.44l.94 2.06.94-2.06 2.06-.94-2.06-.94-.94-2.06-.94 2.06-2.06.94zm-11 1L8.5 8.5l.94-2.06 2.06-.94-2.06-.94L8.5 2.5l-.94 2.06-2.06.94zm10 10l.94 2.06.94-2.06 2.06-.94-2.06-.94-.94-2.06-.94 2.06-2.06.94z\"/><path d=\"M17.41 7.96l-1.37-1.37c-.4-.4-.92-.59-1.43-.59-.52 0-1.04.2-1.43.59L10.3 9.45l-7.72 7.72c-.78.78-.78 2.05 0 2.83L4 21.41c.39.39.9.59 1.41.59.51 0 1.02-.2 1.41-.59l7.78-7.78 2.81-2.81c.8-.78.8-2.07 0-2.86zM5.41 20L4 18.59l7.72-7.72 1.47 1.35L5.41 20z\"/>\n",
              "  </svg>\n",
              "      </button>\n",
              "      \n",
              "  <style>\n",
              "    .colab-df-container {\n",
              "      display:flex;\n",
              "      flex-wrap:wrap;\n",
              "      gap: 12px;\n",
              "    }\n",
              "\n",
              "    .colab-df-convert {\n",
              "      background-color: #E8F0FE;\n",
              "      border: none;\n",
              "      border-radius: 50%;\n",
              "      cursor: pointer;\n",
              "      display: none;\n",
              "      fill: #1967D2;\n",
              "      height: 32px;\n",
              "      padding: 0 0 0 0;\n",
              "      width: 32px;\n",
              "    }\n",
              "\n",
              "    .colab-df-convert:hover {\n",
              "      background-color: #E2EBFA;\n",
              "      box-shadow: 0px 1px 2px rgba(60, 64, 67, 0.3), 0px 1px 3px 1px rgba(60, 64, 67, 0.15);\n",
              "      fill: #174EA6;\n",
              "    }\n",
              "\n",
              "    [theme=dark] .colab-df-convert {\n",
              "      background-color: #3B4455;\n",
              "      fill: #D2E3FC;\n",
              "    }\n",
              "\n",
              "    [theme=dark] .colab-df-convert:hover {\n",
              "      background-color: #434B5C;\n",
              "      box-shadow: 0px 1px 3px 1px rgba(0, 0, 0, 0.15);\n",
              "      filter: drop-shadow(0px 1px 2px rgba(0, 0, 0, 0.3));\n",
              "      fill: #FFFFFF;\n",
              "    }\n",
              "  </style>\n",
              "\n",
              "      <script>\n",
              "        const buttonEl =\n",
              "          document.querySelector('#df-5640b940-489a-4707-84aa-60b6f122f10c button.colab-df-convert');\n",
              "        buttonEl.style.display =\n",
              "          google.colab.kernel.accessAllowed ? 'block' : 'none';\n",
              "\n",
              "        async function convertToInteractive(key) {\n",
              "          const element = document.querySelector('#df-5640b940-489a-4707-84aa-60b6f122f10c');\n",
              "          const dataTable =\n",
              "            await google.colab.kernel.invokeFunction('convertToInteractive',\n",
              "                                                     [key], {});\n",
              "          if (!dataTable) return;\n",
              "\n",
              "          const docLinkHtml = 'Like what you see? Visit the ' +\n",
              "            '<a target=\"_blank\" href=https://colab.research.google.com/notebooks/data_table.ipynb>data table notebook</a>'\n",
              "            + ' to learn more about interactive tables.';\n",
              "          element.innerHTML = '';\n",
              "          dataTable['output_type'] = 'display_data';\n",
              "          await google.colab.output.renderOutput(dataTable, element);\n",
              "          const docLink = document.createElement('div');\n",
              "          docLink.innerHTML = docLinkHtml;\n",
              "          element.appendChild(docLink);\n",
              "        }\n",
              "      </script>\n",
              "    </div>\n",
              "  </div>\n",
              "  "
            ]
          },
          "metadata": {},
          "execution_count": 87
        }
      ]
    },
    {
      "cell_type": "code",
      "source": [
        "# Add new columns that are required for YOLO format\n",
        "\n",
        "annotation_data['classNumber'] = ''\n",
        "annotation_data['center x'] = ''\n",
        "annotation_data['center y'] = ''\n",
        "annotation_data['width'] = ''\n",
        "annotation_data['height'] = ''\n",
        "\n",
        "annotation_data.head()\n"
      ],
      "metadata": {
        "colab": {
          "base_uri": "https://localhost:8080/",
          "height": 204
        },
        "id": "6bUrBtZtPuuz",
        "outputId": "30cbc137-3c8c-4e84-d652-c6e69ac3fae6"
      },
      "execution_count": null,
      "outputs": [
        {
          "output_type": "execute_result",
          "data": {
            "text/plain": [
              "   class                            image_path   xmax   xmin   ymax   ymin  \\\n",
              "0    3.0  4a48c42c9579ec0399e6c5a3e825e765.jpg  797.0  701.0  262.0  211.0   \n",
              "1    3.0  4a48c42c9579ec0399e6c5a3e825e765.jpg  932.0  786.0  329.0  238.0   \n",
              "2    3.0  4a48c42c9579ec0399e6c5a3e825e765.jpg  736.0  657.0  275.0  229.0   \n",
              "3    7.0  ea906a663da6321bcef78be4b7d1afff.jpg  986.0  786.0  136.0    0.0   \n",
              "4    8.0  1c7d48005a12d1b19261b8e71df7cafe.jpg  667.0  549.0  228.0  179.0   \n",
              "\n",
              "  classNumber center x center y width height  \n",
              "0                                             \n",
              "1                                             \n",
              "2                                             \n",
              "3                                             \n",
              "4                                             "
            ],
            "text/html": [
              "\n",
              "  <div id=\"df-a1171ebe-18c3-4a70-b783-596986d63487\">\n",
              "    <div class=\"colab-df-container\">\n",
              "      <div>\n",
              "<style scoped>\n",
              "    .dataframe tbody tr th:only-of-type {\n",
              "        vertical-align: middle;\n",
              "    }\n",
              "\n",
              "    .dataframe tbody tr th {\n",
              "        vertical-align: top;\n",
              "    }\n",
              "\n",
              "    .dataframe thead th {\n",
              "        text-align: right;\n",
              "    }\n",
              "</style>\n",
              "<table border=\"1\" class=\"dataframe\">\n",
              "  <thead>\n",
              "    <tr style=\"text-align: right;\">\n",
              "      <th></th>\n",
              "      <th>class</th>\n",
              "      <th>image_path</th>\n",
              "      <th>xmax</th>\n",
              "      <th>xmin</th>\n",
              "      <th>ymax</th>\n",
              "      <th>ymin</th>\n",
              "      <th>classNumber</th>\n",
              "      <th>center x</th>\n",
              "      <th>center y</th>\n",
              "      <th>width</th>\n",
              "      <th>height</th>\n",
              "    </tr>\n",
              "  </thead>\n",
              "  <tbody>\n",
              "    <tr>\n",
              "      <th>0</th>\n",
              "      <td>3.0</td>\n",
              "      <td>4a48c42c9579ec0399e6c5a3e825e765.jpg</td>\n",
              "      <td>797.0</td>\n",
              "      <td>701.0</td>\n",
              "      <td>262.0</td>\n",
              "      <td>211.0</td>\n",
              "      <td></td>\n",
              "      <td></td>\n",
              "      <td></td>\n",
              "      <td></td>\n",
              "      <td></td>\n",
              "    </tr>\n",
              "    <tr>\n",
              "      <th>1</th>\n",
              "      <td>3.0</td>\n",
              "      <td>4a48c42c9579ec0399e6c5a3e825e765.jpg</td>\n",
              "      <td>932.0</td>\n",
              "      <td>786.0</td>\n",
              "      <td>329.0</td>\n",
              "      <td>238.0</td>\n",
              "      <td></td>\n",
              "      <td></td>\n",
              "      <td></td>\n",
              "      <td></td>\n",
              "      <td></td>\n",
              "    </tr>\n",
              "    <tr>\n",
              "      <th>2</th>\n",
              "      <td>3.0</td>\n",
              "      <td>4a48c42c9579ec0399e6c5a3e825e765.jpg</td>\n",
              "      <td>736.0</td>\n",
              "      <td>657.0</td>\n",
              "      <td>275.0</td>\n",
              "      <td>229.0</td>\n",
              "      <td></td>\n",
              "      <td></td>\n",
              "      <td></td>\n",
              "      <td></td>\n",
              "      <td></td>\n",
              "    </tr>\n",
              "    <tr>\n",
              "      <th>3</th>\n",
              "      <td>7.0</td>\n",
              "      <td>ea906a663da6321bcef78be4b7d1afff.jpg</td>\n",
              "      <td>986.0</td>\n",
              "      <td>786.0</td>\n",
              "      <td>136.0</td>\n",
              "      <td>0.0</td>\n",
              "      <td></td>\n",
              "      <td></td>\n",
              "      <td></td>\n",
              "      <td></td>\n",
              "      <td></td>\n",
              "    </tr>\n",
              "    <tr>\n",
              "      <th>4</th>\n",
              "      <td>8.0</td>\n",
              "      <td>1c7d48005a12d1b19261b8e71df7cafe.jpg</td>\n",
              "      <td>667.0</td>\n",
              "      <td>549.0</td>\n",
              "      <td>228.0</td>\n",
              "      <td>179.0</td>\n",
              "      <td></td>\n",
              "      <td></td>\n",
              "      <td></td>\n",
              "      <td></td>\n",
              "      <td></td>\n",
              "    </tr>\n",
              "  </tbody>\n",
              "</table>\n",
              "</div>\n",
              "      <button class=\"colab-df-convert\" onclick=\"convertToInteractive('df-a1171ebe-18c3-4a70-b783-596986d63487')\"\n",
              "              title=\"Convert this dataframe to an interactive table.\"\n",
              "              style=\"display:none;\">\n",
              "        \n",
              "  <svg xmlns=\"http://www.w3.org/2000/svg\" height=\"24px\"viewBox=\"0 0 24 24\"\n",
              "       width=\"24px\">\n",
              "    <path d=\"M0 0h24v24H0V0z\" fill=\"none\"/>\n",
              "    <path d=\"M18.56 5.44l.94 2.06.94-2.06 2.06-.94-2.06-.94-.94-2.06-.94 2.06-2.06.94zm-11 1L8.5 8.5l.94-2.06 2.06-.94-2.06-.94L8.5 2.5l-.94 2.06-2.06.94zm10 10l.94 2.06.94-2.06 2.06-.94-2.06-.94-.94-2.06-.94 2.06-2.06.94z\"/><path d=\"M17.41 7.96l-1.37-1.37c-.4-.4-.92-.59-1.43-.59-.52 0-1.04.2-1.43.59L10.3 9.45l-7.72 7.72c-.78.78-.78 2.05 0 2.83L4 21.41c.39.39.9.59 1.41.59.51 0 1.02-.2 1.41-.59l7.78-7.78 2.81-2.81c.8-.78.8-2.07 0-2.86zM5.41 20L4 18.59l7.72-7.72 1.47 1.35L5.41 20z\"/>\n",
              "  </svg>\n",
              "      </button>\n",
              "      \n",
              "  <style>\n",
              "    .colab-df-container {\n",
              "      display:flex;\n",
              "      flex-wrap:wrap;\n",
              "      gap: 12px;\n",
              "    }\n",
              "\n",
              "    .colab-df-convert {\n",
              "      background-color: #E8F0FE;\n",
              "      border: none;\n",
              "      border-radius: 50%;\n",
              "      cursor: pointer;\n",
              "      display: none;\n",
              "      fill: #1967D2;\n",
              "      height: 32px;\n",
              "      padding: 0 0 0 0;\n",
              "      width: 32px;\n",
              "    }\n",
              "\n",
              "    .colab-df-convert:hover {\n",
              "      background-color: #E2EBFA;\n",
              "      box-shadow: 0px 1px 2px rgba(60, 64, 67, 0.3), 0px 1px 3px 1px rgba(60, 64, 67, 0.15);\n",
              "      fill: #174EA6;\n",
              "    }\n",
              "\n",
              "    [theme=dark] .colab-df-convert {\n",
              "      background-color: #3B4455;\n",
              "      fill: #D2E3FC;\n",
              "    }\n",
              "\n",
              "    [theme=dark] .colab-df-convert:hover {\n",
              "      background-color: #434B5C;\n",
              "      box-shadow: 0px 1px 3px 1px rgba(0, 0, 0, 0.15);\n",
              "      filter: drop-shadow(0px 1px 2px rgba(0, 0, 0, 0.3));\n",
              "      fill: #FFFFFF;\n",
              "    }\n",
              "  </style>\n",
              "\n",
              "      <script>\n",
              "        const buttonEl =\n",
              "          document.querySelector('#df-a1171ebe-18c3-4a70-b783-596986d63487 button.colab-df-convert');\n",
              "        buttonEl.style.display =\n",
              "          google.colab.kernel.accessAllowed ? 'block' : 'none';\n",
              "\n",
              "        async function convertToInteractive(key) {\n",
              "          const element = document.querySelector('#df-a1171ebe-18c3-4a70-b783-596986d63487');\n",
              "          const dataTable =\n",
              "            await google.colab.kernel.invokeFunction('convertToInteractive',\n",
              "                                                     [key], {});\n",
              "          if (!dataTable) return;\n",
              "\n",
              "          const docLinkHtml = 'Like what you see? Visit the ' +\n",
              "            '<a target=\"_blank\" href=https://colab.research.google.com/notebooks/data_table.ipynb>data table notebook</a>'\n",
              "            + ' to learn more about interactive tables.';\n",
              "          element.innerHTML = '';\n",
              "          dataTable['output_type'] = 'display_data';\n",
              "          await google.colab.output.renderOutput(dataTable, element);\n",
              "          const docLink = document.createElement('div');\n",
              "          docLink.innerHTML = docLinkHtml;\n",
              "          element.appendChild(docLink);\n",
              "        }\n",
              "      </script>\n",
              "    </div>\n",
              "  </div>\n",
              "  "
            ]
          },
          "metadata": {},
          "execution_count": 88
        }
      ]
    },
    {
      "cell_type": "code",
      "source": [
        "# Iterate through all the class strings and assign a class number according to the order they are appearing in the list\n",
        "\n",
        "for i in range(len(class_strings)):\n",
        "  # Store the result of this operation into classNumber\n",
        "  annotation_data.loc[annotation_data['class'] == class_strings[i], 'classNumber'] = i\n"
      ],
      "metadata": {
        "id": "3WLKdQBLQR1D"
      },
      "execution_count": null,
      "outputs": []
    },
    {
      "cell_type": "code",
      "source": [
        "# Calculate center x and center y values\n",
        "annotation_data['center x'] = ((annotation_data['xmax'] + annotation_data['xmin']) / (2*1920))\n",
        "annotation_data['center y'] = ((annotation_data['ymax'] + annotation_data['ymin']) / (2*1080))\n"
      ],
      "metadata": {
        "id": "iS6eceHHRIzk"
      },
      "execution_count": null,
      "outputs": []
    },
    {
      "cell_type": "code",
      "source": [
        "# Calculate width and height values\n",
        "annotation_data['width'] = ((annotation_data['xmax'] - annotation_data['xmin'])/1920)\n",
        "annotation_data['height'] = ((annotation_data['xmax'] - annotation_data['xmin'])/1080)\n"
      ],
      "metadata": {
        "id": "bKYHxWIrRxrn"
      },
      "execution_count": null,
      "outputs": []
    },
    {
      "cell_type": "code",
      "source": [
        "# Generate the dataframe with YOLO required values\n",
        "YOLO_values = annotation_data.loc[:,['image_path','classNumber', 'center x', 'center y','width','height']].copy()\n",
        "YOLO_values.head()"
      ],
      "metadata": {
        "id": "rxszZxiYR8Tr"
      },
      "execution_count": null,
      "outputs": []
    },
    {
      "cell_type": "code",
      "source": [],
      "metadata": {
        "id": "EebF0zFdutvm"
      },
      "execution_count": null,
      "outputs": []
    },
    {
      "cell_type": "code",
      "source": [
        "os.chdir('/content/drive/My Drive/dataset/images')\n",
        "\n",
        "# Go through all the image files in the directory \n",
        "# Fullstop in os.walk('.') means the current directory\n",
        "for current_dir, dirs, files in os.walk('.'):\n",
        "  for f in files:\n",
        "    # Check if the file extension ends with '.jpg'\n",
        "    if f.endswith('.jpg'):\n",
        "      # Extract only the title of the image file so that corresponding txt file can be generated with the same name as per YOLO guidelines\n",
        "      #image_title = f[:-4]\n",
        "\n",
        "      # Get matched data\n",
        "      #YOLO_file = YOLO_values.loc[YOLO_values['image_path'] == image_title]\n",
        "      YOLO_file = YOLO_values.loc[YOLO_values['image_path'] == f]\n",
        "\n",
        "\n",
        "      # Create a copy of the above dataframe to avoid any mess\n",
        "      df = YOLO_file.loc[:, ['classNumber', 'center x', 'center y', 'width', 'height']].copy()\n",
        "      image_title = f[:-4]\n",
        "      save_path = '/content/drive/My Drive/dataset/images' + '/' + image_title + '.txt'\n",
        "\n",
        "      # Generate a text file containing required data in YOLO format\n",
        "      df.to_csv(save_path, header=False, index=False, sep=' ')"
      ],
      "metadata": {
        "id": "zcZdqqVVS15h"
      },
      "execution_count": null,
      "outputs": []
    }
  ]
}